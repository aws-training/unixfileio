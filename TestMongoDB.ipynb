{
 "cells": [
  {
   "cell_type": "markdown",
   "id": "9ef27a6a",
   "metadata": {},
   "source": [
    "# CRUD operations in MongoDB using python\n",
    "\n",
    "### What is MongoDB?\n",
    "\n",
    "MongoDB is a document-oriented NoSQL database. It's one of the widely used databases in the industry due to its flexibility and ease of use. The architecture of MongoDB consists of collections and documents. MongoDB stores the data in JSON document format that is, it stores data in key-value pair. A group of JSON documents can be termed as a collection. Unlike SQL tables MongoDB documents do not have any fixed schema. With the use of dynamic schema, we can easily make changes to the application without any interruptions."
   ]
  },
  {
   "cell_type": "markdown",
   "id": "636e8dc7",
   "metadata": {},
   "source": [
    "### How to perform CRUD operations in MongoDB using Python?\n",
    "\n",
    "To connect with the MongoDB server using python we need to install a python driver named `pymongo`. It contains tools that are used to interact with MongoDB using python.\n"
   ]
  },
  {
   "cell_type": "code",
   "execution_count": 34,
   "id": "841e5678",
   "metadata": {},
   "outputs": [
    {
     "data": {
      "text/plain": [
       "['admin', 'config', 'local', 'nobel']"
      ]
     },
     "execution_count": 34,
     "metadata": {},
     "output_type": "execute_result"
    }
   ],
   "source": [
    "# Firstly, we need to import the pymongo package\n",
    "\n",
    "import pymongo\n",
    "\n",
    "# We will define a variable named connection_url to store the MongoDB connection URL\n",
    "connection_url=\"mongodb://localhost:27017/\"\n",
    "\n",
    "# To connect to the MongoDB server, we will use the MongoClient method.\n",
    "client=pymongo.MongoClient(connection_url)\n",
    "\n",
    "# Using the client object created above we can access the databases in MongoDB\n",
    "client.list_database_names()\n"
   ]
  },
  {
   "cell_type": "code",
   "execution_count": 35,
   "id": "3196628f",
   "metadata": {},
   "outputs": [
    {
     "data": {
      "text/plain": [
       "['admin', 'config', 'local', 'nobel']"
      ]
     },
     "execution_count": 35,
     "metadata": {},
     "output_type": "execute_result"
    }
   ],
   "source": [
    "# We can create a database using the below command.\n",
    "\n",
    "database_name=\"student_database\"\n",
    "student_db=client[database_name]\n",
    "\n",
    "client.list_database_names()"
   ]
  },
  {
   "cell_type": "markdown",
   "id": "32c21d98",
   "metadata": {},
   "source": [
    "In MongoDB, unless we add any document to the database, we cannot see the database created in the list of available databases. To create a document, we need to create a collection in the database which stores the documents. Here we will take the collection name as computer science."
   ]
  },
  {
   "cell_type": "code",
   "execution_count": 36,
   "id": "fe6d3004",
   "metadata": {},
   "outputs": [
    {
     "name": "stdout",
     "output_type": "stream",
     "text": [
      "[]\n",
      "['admin', 'config', 'local', 'nobel']\n"
     ]
    }
   ],
   "source": [
    "collection_name=\"computer science\"\n",
    "collection=student_db[collection_name]\n",
    "\n",
    "# To list the available collections in a database we can use the below command.\n",
    "print(student_db.list_collection_names())\n",
    "print(client.list_database_names())"
   ]
  },
  {
   "cell_type": "markdown",
   "id": "8aa7e492",
   "metadata": {},
   "source": [
    "### Inserting documents in the collection\n",
    "\n",
    "Inserting documents into a collection can be done in the following two ways\n",
    "\n",
    "> 1) Inserting a single document into the collection.\n",
    "\n",
    "> 2) Inserting multiple documents into the collection.\n",
    "\n",
    "To insert a single document, we use `insert_one()` method."
   ]
  },
  {
   "cell_type": "code",
   "execution_count": 37,
   "id": "f4658c09",
   "metadata": {},
   "outputs": [
    {
     "data": {
      "text/plain": [
       "<pymongo.results.InsertOneResult at 0x7fd314063f80>"
      ]
     },
     "execution_count": 37,
     "metadata": {},
     "output_type": "execute_result"
    }
   ],
   "source": [
    "document={\"Name\":\"Raj\",\n",
    "\"Roll No\":153,\n",
    "\"Branch\": \"CSE\"}\n",
    "collection.insert_one(document)"
   ]
  },
  {
   "cell_type": "code",
   "execution_count": 38,
   "id": "849d8f88",
   "metadata": {},
   "outputs": [
    {
     "name": "stdout",
     "output_type": "stream",
     "text": [
      "['computer science']\n",
      "['admin', 'config', 'local', 'nobel', 'student_database']\n"
     ]
    }
   ],
   "source": [
    "print(student_db.list_collection_names())\n",
    "print(client.list_database_names())"
   ]
  },
  {
   "cell_type": "markdown",
   "id": "77cf1679",
   "metadata": {},
   "source": [
    "To insert multiple documents, we will use `insert_many()` method. To insert these documents, we will create a list of dictionaries that contains the data to be inserted into the collection and pass that list to `insert_many()` method."
   ]
  },
  {
   "cell_type": "code",
   "execution_count": 39,
   "id": "44875678",
   "metadata": {},
   "outputs": [
    {
     "data": {
      "text/plain": [
       "<pymongo.results.InsertManyResult at 0x7fd314066640>"
      ]
     },
     "execution_count": 39,
     "metadata": {},
     "output_type": "execute_result"
    }
   ],
   "source": [
    "documents=[{\"Name\":\"Roshan\",\"Roll No\":159,\"Branch\":\"CSE\"},{\"Name\":\"Rahim\",\"Roll No\":155,\"Branch\":\"CSE\"},{\"Name\":\"Ronak\",\"Roll No\":156,\"Branch\":\"CSE\"}]\n",
    "collection.insert_many(documents)"
   ]
  },
  {
   "cell_type": "markdown",
   "id": "37054cb6",
   "metadata": {},
   "source": [
    "In both cases, we can see that an additional entry named `_id` is created for every document. `_id` is a unique identity created for every document. A user can also give a custom `_id` while inserting documents.\n",
    "\n",
    "### Retrieving the data from the collection\n",
    "\n",
    "Retrieving data can be done in the following two ways.\n",
    "> 1. Retrieving a single document\n",
    "\n",
    "> 2. Retrieving multiple documents\n",
    "\n",
    "#### Retrieving a single document from the collection.\n",
    "\n",
    "To retrieve a single document we use `find_one()` method. We need to pass a query as a parameter to `find_one()` method and `find_one()` method search the collection and it will return the first hit document.\n"
   ]
  },
  {
   "cell_type": "code",
   "execution_count": 40,
   "id": "33f66512",
   "metadata": {},
   "outputs": [
    {
     "name": "stdout",
     "output_type": "stream",
     "text": [
      "{'_id': ObjectId('63feda1216f6a6ba78230c9c'), 'Name': 'Raj', 'Roll No': 153, 'Branch': 'CSE'}\n"
     ]
    }
   ],
   "source": [
    "query={\"Name\":\"Raj\"}\n",
    "print(collection.find_one(query))"
   ]
  },
  {
   "cell_type": "markdown",
   "id": "36e3781f",
   "metadata": {},
   "source": [
    "#### Retrieving multiple documents from the collection.\n",
    "\n",
    "To retrieve multiple documents we use `find_many()` method. The return type of `find_many()` is a cursor object. We can use for loop to loop over the cursor object."
   ]
  },
  {
   "cell_type": "code",
   "execution_count": 41,
   "id": "22b992bd",
   "metadata": {},
   "outputs": [
    {
     "name": "stdout",
     "output_type": "stream",
     "text": [
      "{'_id': ObjectId('63feda1216f6a6ba78230c9c'), 'Name': 'Raj', 'Roll No': 153, 'Branch': 'CSE'}\n",
      "{'_id': ObjectId('63feda2c16f6a6ba78230c9d'), 'Name': 'Roshan', 'Roll No': 159, 'Branch': 'CSE'}\n",
      "{'_id': ObjectId('63feda2c16f6a6ba78230c9e'), 'Name': 'Rahim', 'Roll No': 155, 'Branch': 'CSE'}\n",
      "{'_id': ObjectId('63feda2c16f6a6ba78230c9f'), 'Name': 'Ronak', 'Roll No': 156, 'Branch': 'CSE'}\n"
     ]
    }
   ],
   "source": [
    "query={\"Branch\":\"CSE\"}\n",
    "result=collection.find(query)\n",
    "for i in result:\n",
    "    print(i)"
   ]
  },
  {
   "cell_type": "markdown",
   "id": "de432120",
   "metadata": {},
   "source": [
    "To retrieve all the documents you need to pass an empty query into the find method. If we want to limit the number of documents to be retrieved then we use `limit()` method."
   ]
  },
  {
   "cell_type": "code",
   "execution_count": 42,
   "id": "d3afff28",
   "metadata": {},
   "outputs": [
    {
     "name": "stdout",
     "output_type": "stream",
     "text": [
      "{'_id': ObjectId('63feda1216f6a6ba78230c9c'), 'Name': 'Raj', 'Roll No': 153, 'Branch': 'CSE'}\n",
      "{'_id': ObjectId('63feda2c16f6a6ba78230c9d'), 'Name': 'Roshan', 'Roll No': 159, 'Branch': 'CSE'}\n"
     ]
    }
   ],
   "source": [
    "result=collection.find({}).limit(2)\n",
    "for i in result:\n",
    "    print(i)"
   ]
  },
  {
   "cell_type": "markdown",
   "id": "a04b0d88",
   "metadata": {},
   "source": [
    "You can filter the query using query operators such as `gt`, `lt`, eq etc., You can find the full list of query operation [here!](https://docs.mongodb.com/manual/reference/operator/query/ \"here!\"). \n",
    "\n",
    "Example for query filtering:"
   ]
  },
  {
   "cell_type": "code",
   "execution_count": 43,
   "id": "232ee4ab",
   "metadata": {},
   "outputs": [
    {
     "name": "stdout",
     "output_type": "stream",
     "text": [
      "{'_id': ObjectId('63feda1216f6a6ba78230c9c'), 'Name': 'Raj', 'Roll No': 153, 'Branch': 'CSE'}\n"
     ]
    }
   ],
   "source": [
    "query={\"Roll No\":{\"$eq\":153}}\n",
    "print(collection.find_one(query))"
   ]
  },
  {
   "cell_type": "markdown",
   "id": "bf8c7c7b",
   "metadata": {},
   "source": [
    "### Updating the documents in the collection\n",
    "\n",
    "Updating the documents can be done in the following two ways.\n",
    "> 1. Updating a single document\n",
    "\n",
    "> 2. Updating multiple documents\n",
    "\n",
    "To update a single document we use `update_one()` method.\n",
    "\n",
    "For updating the documents we need to provide 2 parameters into the method. The first parameter is a filter parameter and the second parameter is an update parameter. The filter parameter is a query that matches the document to be updated. Update parameter is modifications to be applied for that document."
   ]
  },
  {
   "cell_type": "code",
   "execution_count": 44,
   "id": "8156b47e",
   "metadata": {},
   "outputs": [
    {
     "name": "stdout",
     "output_type": "stream",
     "text": [
      "{'_id': ObjectId('63feda1216f6a6ba78230c9c'), 'Name': 'Raj', 'Roll No': 153, 'Branch': 'CSE'}\n",
      "{'_id': ObjectId('63feda1216f6a6ba78230c9c'), 'Name': 'Ramesh', 'Roll No': 153, 'Branch': 'CSE'}\n"
     ]
    }
   ],
   "source": [
    "query={\"Roll No\":{\"$eq\":153}}\n",
    "print(collection.find_one(query))\n",
    "\n",
    "new_data={'$set':{\"Name\":'Ramesh'}}\n",
    "collection.update_one(query,new_data) # https://www.geeksforgeeks.org/python-mongodb-update_one/\n",
    "\n",
    "query={\"Roll No\":{\"$eq\":153}}\n",
    "print(collection.find_one(query))"
   ]
  },
  {
   "cell_type": "markdown",
   "id": "e826c1c6",
   "metadata": {},
   "source": [
    "To update multiple documents we use `update_many()` method.\n",
    "\n"
   ]
  },
  {
   "cell_type": "code",
   "execution_count": 45,
   "id": "19afc35a",
   "metadata": {},
   "outputs": [
    {
     "name": "stdout",
     "output_type": "stream",
     "text": [
      "{'_id': ObjectId('63feda1216f6a6ba78230c9c'), 'Name': 'Ramesh', 'Roll No': 153, 'Branch': 'CSE'}\n",
      "{'_id': ObjectId('63feda2c16f6a6ba78230c9d'), 'Name': 'Roshan', 'Roll No': 159, 'Branch': 'CSE'}\n",
      "{'_id': ObjectId('63feda2c16f6a6ba78230c9e'), 'Name': 'Rahim', 'Roll No': 155, 'Branch': 'CSE'}\n",
      "{'_id': ObjectId('63feda2c16f6a6ba78230c9f'), 'Name': 'Ronak', 'Roll No': 156, 'Branch': 'CSE'}\n",
      "{'_id': ObjectId('63feda1216f6a6ba78230c9c'), 'Name': 'Ramesh', 'Roll No': 153, 'Branch': 'ECE'}\n",
      "{'_id': ObjectId('63feda2c16f6a6ba78230c9d'), 'Name': 'Roshan', 'Roll No': 159, 'Branch': 'ECE'}\n",
      "{'_id': ObjectId('63feda2c16f6a6ba78230c9e'), 'Name': 'Rahim', 'Roll No': 155, 'Branch': 'ECE'}\n",
      "{'_id': ObjectId('63feda2c16f6a6ba78230c9f'), 'Name': 'Ronak', 'Roll No': 156, 'Branch': 'ECE'}\n"
     ]
    }
   ],
   "source": [
    "query={\"Branch\":\"CSE\"}\n",
    "result=collection.find(query)\n",
    "for i in result:\n",
    "    print(i)\n",
    "\n",
    "present_data={\"Branch\":\"CSE\"}\n",
    "new_data={\"$set\":{\"Branch\":\"ECE\"}}\n",
    "collection.update_many(present_data,new_data)\n",
    "\n",
    "query={\"Branch\":\"ECE\"}\n",
    "result=collection.find(query)\n",
    "for i in result:\n",
    "    print(i)"
   ]
  },
  {
   "cell_type": "markdown",
   "id": "2b08430b",
   "metadata": {},
   "source": [
    "### Deleting documents from the collection\n",
    "\n",
    "Deleting documents can be done in the following two ways.\n",
    "> 1. Deleting a single document\n",
    "\n",
    "> 2. Deleting multiple documents\n",
    "\n",
    "To delete a single document we use `delete_one()` method by passing a query as a parameter."
   ]
  },
  {
   "cell_type": "code",
   "execution_count": 46,
   "id": "f67059db",
   "metadata": {},
   "outputs": [
    {
     "name": "stdout",
     "output_type": "stream",
     "text": [
      "Before deleting\n",
      "{'_id': ObjectId('63feda1216f6a6ba78230c9c'), 'Name': 'Ramesh', 'Roll No': 153, 'Branch': 'ECE'}\n",
      "{'_id': ObjectId('63feda2c16f6a6ba78230c9d'), 'Name': 'Roshan', 'Roll No': 159, 'Branch': 'ECE'}\n",
      "{'_id': ObjectId('63feda2c16f6a6ba78230c9e'), 'Name': 'Rahim', 'Roll No': 155, 'Branch': 'ECE'}\n",
      "{'_id': ObjectId('63feda2c16f6a6ba78230c9f'), 'Name': 'Ronak', 'Roll No': 156, 'Branch': 'ECE'}\n",
      "After deleting\n",
      "{'_id': ObjectId('63feda2c16f6a6ba78230c9d'), 'Name': 'Roshan', 'Roll No': 159, 'Branch': 'ECE'}\n",
      "{'_id': ObjectId('63feda2c16f6a6ba78230c9e'), 'Name': 'Rahim', 'Roll No': 155, 'Branch': 'ECE'}\n",
      "{'_id': ObjectId('63feda2c16f6a6ba78230c9f'), 'Name': 'Ronak', 'Roll No': 156, 'Branch': 'ECE'}\n"
     ]
    }
   ],
   "source": [
    "print(\"Before deleting\")\n",
    "\n",
    "result=collection.find({})\n",
    "for i in result:\n",
    "    print(i)\n",
    "\n",
    "query={\"Roll No\":153}\n",
    "collection.delete_one(query)\n",
    "\n",
    "\n",
    "print(\"After deleting\")\n",
    "\n",
    "result=collection.find({})\n",
    "for i in result:\n",
    "    print(i)\n",
    "\n"
   ]
  },
  {
   "cell_type": "markdown",
   "id": "25dfe0c8",
   "metadata": {},
   "source": [
    "To delete multiple documents we use `delete_many()` method."
   ]
  },
  {
   "cell_type": "code",
   "execution_count": 47,
   "id": "376917bf",
   "metadata": {},
   "outputs": [
    {
     "name": "stdout",
     "output_type": "stream",
     "text": [
      "Before deleting\n",
      "{'_id': ObjectId('63feda2c16f6a6ba78230c9d'), 'Name': 'Roshan', 'Roll No': 159, 'Branch': 'ECE'}\n",
      "{'_id': ObjectId('63feda2c16f6a6ba78230c9e'), 'Name': 'Rahim', 'Roll No': 155, 'Branch': 'ECE'}\n",
      "{'_id': ObjectId('63feda2c16f6a6ba78230c9f'), 'Name': 'Ronak', 'Roll No': 156, 'Branch': 'ECE'}\n",
      "After deleting\n"
     ]
    }
   ],
   "source": [
    "print(\"Before deleting\")\n",
    "\n",
    "result=collection.find({})\n",
    "for i in result:\n",
    "    print(i)\n",
    "\n",
    "query={\"Branch\":\"ECE\"}\n",
    "collection.delete_many(query)\n",
    "\n",
    "print(\"After deleting\")\n",
    "\n",
    "result=collection.find({})\n",
    "for i in result:\n",
    "    print(i)"
   ]
  },
  {
   "cell_type": "markdown",
   "id": "1dfc2899",
   "metadata": {},
   "source": [
    "### Dropping collection from the database\n",
    "\n",
    "To drop a collection we use `drop()` method. Once the drop method is executed entire data in that collection will be erased."
   ]
  },
  {
   "cell_type": "code",
   "execution_count": 48,
   "id": "6d71479a",
   "metadata": {},
   "outputs": [],
   "source": [
    "collection.drop()\n",
    "\n",
    "result=collection.find({})\n",
    "for i in result:\n",
    "    print(i)\n"
   ]
  },
  {
   "cell_type": "code",
   "execution_count": 49,
   "id": "11e97864",
   "metadata": {},
   "outputs": [
    {
     "name": "stdout",
     "output_type": "stream",
     "text": [
      "[]\n",
      "['admin', 'config', 'local', 'nobel']\n"
     ]
    }
   ],
   "source": [
    "collection=student_db[collection_name]\n",
    "\n",
    "# To list the available collections in a database we can use the below command.\n",
    "print(student_db.list_collection_names())\n",
    "print(client.list_database_names())"
   ]
  },
  {
   "cell_type": "code",
   "execution_count": null,
   "id": "87d06cef",
   "metadata": {},
   "outputs": [],
   "source": []
  }
 ],
 "metadata": {
  "kernelspec": {
   "display_name": "Python 3 (ipykernel)",
   "language": "python",
   "name": "python3"
  },
  "language_info": {
   "codemirror_mode": {
    "name": "ipython",
    "version": 3
   },
   "file_extension": ".py",
   "mimetype": "text/x-python",
   "name": "python",
   "nbconvert_exporter": "python",
   "pygments_lexer": "ipython3",
   "version": "3.9.13"
  }
 },
 "nbformat": 4,
 "nbformat_minor": 5
}
